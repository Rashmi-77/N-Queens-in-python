{
 "cells": [
  {
   "cell_type": "code",
   "execution_count": 1,
   "metadata": {},
   "outputs": [],
   "source": [
    "#write a program to find solutions of the 8 queen problem.\n",
    "#The eight queens problem is the problem of placing eight queens on an 8×8 chessboard such that none of them attack \n",
    "#one another (no two are in the same row, column, or diagonal). \n",
    "#Below is one of the arrangements of an 8 queen solution"
   ]
  },
  {
   "cell_type": "code",
   "execution_count": 8,
   "metadata": {},
   "outputs": [
    {
     "data": {
      "text/plain": [
       "[[0, 0, 0, 0, 0, 0, 0, 0],\n",
       " [0, 0, 0, 0, 0, 0, 0, 0],\n",
       " [0, 0, 0, 0, 0, 0, 0, 0],\n",
       " [0, 0, 0, 0, 0, 0, 0, 0],\n",
       " [0, 0, 0, 0, 0, 0, 0, 0],\n",
       " [0, 0, 0, 0, 0, 0, 0, 0],\n",
       " [0, 0, 0, 0, 0, 0, 0, 0],\n",
       " [0, 0, 0, 0, 0, 0, 0, 0]]"
      ]
     },
     "execution_count": 8,
     "metadata": {},
     "output_type": "execute_result"
    }
   ],
   "source": [
    "N = 8\n",
    "matrix = [[0 for x in range(N)] for y in range(N)] \n",
    "matrix"
   ]
  },
  {
   "cell_type": "code",
   "execution_count": 9,
   "metadata": {},
   "outputs": [],
   "source": [
    "def displaySolution(matrix):\n",
    "    l = []\n",
    "    for i in range(N):\n",
    "        for j in range(N):\n",
    "            if matrix[i][j] == 1:\n",
    "                l.append(j+1)\n",
    "\n",
    "    print(l)\n",
    "    "
   ]
  },
  {
   "cell_type": "code",
   "execution_count": 10,
   "metadata": {},
   "outputs": [],
   "source": [
    "def NQueens(matrix,col):\n",
    "    if col == N:\n",
    "        displaySolution(matrix)\n",
    "        return True\n",
    "    \n",
    "    for x in range(0,N):#row\n",
    "        if(IsQueenSafe(matrix,x,col)):\n",
    "            matrix[x][col] = 1\n",
    "            NQueens(matrix,col+1)\n",
    "            \n",
    "        matrix[x][col] = 0\n",
    "        \n",
    "    return True"
   ]
  },
  {
   "cell_type": "code",
   "execution_count": 11,
   "metadata": {},
   "outputs": [],
   "source": [
    "def IsQueenSafe(matrix,row,col):\n",
    "    \n",
    "    #keep row same and try all the columns\n",
    "    for x in range(0,col):\n",
    "        if matrix[row][x] == 1:\n",
    "            return False\n",
    "    \n",
    "    for x, y in zip(range(row,-1,-1), range(col,-1,-1)):\n",
    "        if matrix[x][y] == 1:\n",
    "            return False\n",
    "    \n",
    "    for x, y in zip(range(row,N), range(col,-1,-1)):\n",
    "        if matrix[x][y] == 1:\n",
    "            return False\n",
    "    \n",
    "    return True        "
   ]
  },
  {
   "cell_type": "code",
   "execution_count": 12,
   "metadata": {},
   "outputs": [
    {
     "name": "stdout",
     "output_type": "stream",
     "text": [
      "[1, 7, 5, 8, 2, 4, 6, 3]\n",
      "[1, 7, 4, 6, 8, 2, 5, 3]\n",
      "[1, 6, 8, 3, 7, 4, 2, 5]\n",
      "[1, 5, 8, 6, 3, 7, 2, 4]\n",
      "[6, 1, 5, 2, 8, 3, 7, 4]\n",
      "[4, 1, 5, 8, 2, 7, 3, 6]\n",
      "[5, 1, 8, 4, 2, 7, 3, 6]\n",
      "[3, 1, 7, 5, 8, 2, 4, 6]\n",
      "[5, 1, 4, 6, 8, 2, 7, 3]\n",
      "[7, 1, 3, 8, 6, 4, 2, 5]\n",
      "[5, 1, 8, 6, 3, 7, 2, 4]\n",
      "[4, 1, 5, 8, 6, 3, 7, 2]\n",
      "[2, 6, 1, 7, 4, 8, 3, 5]\n",
      "[5, 3, 1, 7, 2, 8, 6, 4]\n",
      "[8, 3, 1, 6, 2, 5, 7, 4]\n",
      "[4, 6, 1, 5, 2, 8, 3, 7]\n",
      "[5, 7, 1, 4, 2, 8, 6, 3]\n",
      "[6, 3, 1, 8, 4, 2, 7, 5]\n",
      "[5, 3, 1, 6, 8, 2, 4, 7]\n",
      "[6, 3, 1, 8, 5, 2, 4, 7]\n",
      "[4, 8, 1, 3, 6, 2, 7, 5]\n",
      "[8, 4, 1, 3, 6, 2, 7, 5]\n",
      "[4, 8, 1, 5, 7, 2, 6, 3]\n",
      "[4, 7, 1, 8, 5, 2, 6, 3]\n",
      "[6, 4, 1, 5, 8, 2, 7, 3]\n",
      "[6, 3, 1, 7, 5, 8, 2, 4]\n",
      "[7, 3, 1, 6, 8, 5, 2, 4]\n",
      "[5, 7, 1, 3, 8, 6, 4, 2]\n",
      "[2, 5, 7, 1, 3, 8, 6, 4]\n",
      "[2, 8, 6, 1, 3, 5, 7, 4]\n",
      "[6, 2, 7, 1, 3, 5, 8, 4]\n",
      "[7, 2, 4, 1, 8, 5, 3, 6]\n",
      "[8, 2, 4, 1, 7, 5, 3, 6]\n",
      "[5, 2, 8, 1, 4, 7, 3, 6]\n",
      "[6, 2, 7, 1, 4, 8, 5, 3]\n",
      "[5, 2, 6, 1, 7, 4, 8, 3]\n",
      "[3, 5, 7, 1, 4, 2, 8, 6]\n",
      "[6, 4, 7, 1, 8, 2, 5, 3]\n",
      "[5, 8, 4, 1, 7, 2, 6, 3]\n",
      "[3, 6, 8, 1, 5, 7, 2, 4]\n",
      "[7, 5, 3, 1, 6, 8, 2, 4]\n",
      "[6, 4, 7, 1, 3, 5, 2, 8]\n",
      "[5, 8, 4, 1, 3, 6, 2, 7]\n",
      "[3, 6, 4, 1, 8, 5, 7, 2]\n",
      "[3, 6, 8, 1, 4, 7, 5, 2]\n",
      "[5, 7, 4, 1, 3, 8, 6, 2]\n",
      "[2, 6, 8, 3, 1, 4, 7, 5]\n",
      "[2, 5, 7, 4, 1, 8, 6, 3]\n",
      "[2, 7, 5, 8, 1, 4, 6, 3]\n",
      "[7, 2, 6, 3, 1, 4, 8, 5]\n",
      "[8, 2, 5, 3, 1, 7, 4, 6]\n",
      "[4, 2, 8, 6, 1, 3, 5, 7]\n",
      "[4, 2, 7, 5, 1, 8, 6, 3]\n",
      "[3, 6, 2, 7, 1, 4, 8, 5]\n",
      "[3, 5, 2, 8, 1, 7, 4, 6]\n",
      "[6, 8, 2, 4, 1, 7, 5, 3]\n",
      "[3, 8, 4, 7, 1, 6, 2, 5]\n",
      "[3, 5, 8, 4, 1, 7, 2, 6]\n",
      "[6, 3, 7, 4, 1, 8, 2, 5]\n",
      "[6, 3, 5, 7, 1, 4, 2, 8]\n",
      "[6, 3, 5, 8, 1, 4, 2, 7]\n",
      "[4, 8, 5, 3, 1, 7, 2, 6]\n",
      "[4, 7, 5, 3, 1, 6, 8, 2]\n",
      "[4, 6, 8, 3, 1, 7, 5, 2]\n",
      "[2, 4, 6, 8, 3, 1, 7, 5]\n",
      "[4, 2, 5, 8, 6, 1, 3, 7]\n",
      "[4, 2, 8, 5, 7, 1, 3, 6]\n",
      "[3, 7, 2, 8, 5, 1, 4, 6]\n",
      "[3, 6, 2, 5, 8, 1, 7, 4]\n",
      "[3, 6, 2, 7, 5, 1, 8, 4]\n",
      "[5, 7, 2, 6, 3, 1, 4, 8]\n",
      "[5, 7, 2, 6, 3, 1, 8, 4]\n",
      "[7, 4, 2, 5, 8, 1, 3, 6]\n",
      "[7, 4, 2, 8, 6, 1, 3, 5]\n",
      "[5, 7, 2, 4, 8, 1, 3, 6]\n",
      "[3, 6, 8, 2, 4, 1, 7, 5]\n",
      "[7, 3, 8, 2, 5, 1, 6, 4]\n",
      "[4, 7, 5, 2, 6, 1, 3, 8]\n",
      "[4, 6, 8, 2, 7, 1, 3, 5]\n",
      "[5, 3, 8, 4, 7, 1, 6, 2]\n",
      "[2, 7, 3, 6, 8, 5, 1, 4]\n",
      "[4, 2, 7, 3, 6, 8, 1, 5]\n",
      "[5, 2, 4, 6, 8, 3, 1, 7]\n",
      "[3, 7, 2, 8, 6, 4, 1, 5]\n",
      "[6, 4, 2, 8, 5, 7, 1, 3]\n",
      "[6, 3, 7, 2, 4, 8, 1, 5]\n",
      "[6, 3, 7, 2, 8, 5, 1, 4]\n",
      "[4, 7, 3, 8, 2, 5, 1, 6]\n",
      "[4, 2, 7, 3, 6, 8, 5, 1]\n",
      "[5, 2, 4, 7, 3, 8, 6, 1]\n",
      "[3, 5, 2, 8, 6, 4, 7, 1]\n",
      "[3, 6, 4, 2, 8, 5, 7, 1]\n"
     ]
    },
    {
     "data": {
      "text/plain": [
       "True"
      ]
     },
     "execution_count": 12,
     "metadata": {},
     "output_type": "execute_result"
    }
   ],
   "source": [
    "NQueens(matrix,0)"
   ]
  },
  {
   "cell_type": "code",
   "execution_count": null,
   "metadata": {},
   "outputs": [],
   "source": []
  },
  {
   "cell_type": "code",
   "execution_count": null,
   "metadata": {},
   "outputs": [],
   "source": []
  }
 ],
 "metadata": {
  "kernelspec": {
   "display_name": "Python 3",
   "language": "python",
   "name": "python3"
  },
  "language_info": {
   "codemirror_mode": {
    "name": "ipython",
    "version": 3
   },
   "file_extension": ".py",
   "mimetype": "text/x-python",
   "name": "python",
   "nbconvert_exporter": "python",
   "pygments_lexer": "ipython3",
   "version": "3.6.4"
  }
 },
 "nbformat": 4,
 "nbformat_minor": 2
}
